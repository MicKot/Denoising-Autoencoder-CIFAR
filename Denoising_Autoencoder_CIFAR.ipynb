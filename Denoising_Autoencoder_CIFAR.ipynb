{
 "cells": [
  {
   "cell_type": "markdown",
   "metadata": {},
   "source": [
    "# Denoising autoencoder for CIFAR dataset(s)\n",
    "\n",
    "Every once in a while we come across an image from our shelf that we like, but sometimes that image is stained by coffee, markers or simply time. What can we do if we want the original image back, without those smears?\n",
    "\n",
    "What can help us is called exactly like title suggests: denoising autoencoder (DAE later in this article).\n",
    "But what exactly is this denoising autoencoder?\n",
    "\n",
    "Let's start with autoencoder. Autoencoder is a neural network that consists of 2 parts: encoder and decoder. Exemplary image of such a network can be seen below."
   ]
  },
  {
   "cell_type": "markdown",
   "metadata": {},
   "source": [
    "![Autoencoder](images/Autoencoder_structure.png)\n",
    "Image from wikipedia"
   ]
  },
  {
   "cell_type": "markdown",
   "metadata": {},
   "source": [
    "Encoders job is to reduce dimensionality of our data (just like PCA). That data is then recreated by decoder. The most basic autoencoder is trained by comparing original data put into encoder's input and comparing it with decoders output. For DAE we put noisy data into encoder's input and compare decoder's output with clean data. For some tasks we train the whole autoencoder and later only use encoder's part to get rid of unnecessary variables. But here we will use both parts of the network."
   ]
  },
  {
   "cell_type": "markdown",
   "metadata": {},
   "source": [
    "For this short article we've decided to try to train DAE on CIFAR100 dataset and check how well it denoises images from CIFAR10 dataset. Deep learning library of our choice for this task is Keras.\n"
   ]
  },
  {
   "cell_type": "markdown",
   "metadata": {},
   "source": [
    "### Part 1: Loading dataset"
   ]
  },
  {
   "cell_type": "code",
   "execution_count": 1,
   "metadata": {},
   "outputs": [],
   "source": [
    "import numpy as np\n",
    "import matplotlib.pyplot as plt\n",
    "from tensorflow.keras.layers import Conv2D, Input, Dense, Reshape, Conv2DTranspose,\\\n",
    "    Activation, BatchNormalization, ReLU, Concatenate\n",
    "from tensorflow.keras.models import Model\n",
    "from tensorflow.keras.callbacks import ModelCheckpoint\n",
    "from tensorflow.keras.datasets import cifar100, cifar10"
   ]
  },
  {
   "cell_type": "markdown",
   "metadata": {},
   "source": [
    "Then we load CIFAR100 dataset, more about it and CIFAR10 can be found [here](https://www.cs.toronto.edu/~kriz/cifar.html). Probably the most important fact is none of the images of CIFAR100 can be found in CIFAR10 dataset and vice versa.\n",
    "\n",
    "We don't load labels, because we don't care about them at all."
   ]
  },
  {
   "cell_type": "code",
   "execution_count": 2,
   "metadata": {},
   "outputs": [],
   "source": [
    "(train_data_clean, _), (test_data_clean, _) = cifar100.load_data(label_mode='fine')"
   ]
  },
  {
   "cell_type": "markdown",
   "metadata": {},
   "source": [
    "Next step: convert data to floats 0-1."
   ]
  },
  {
   "cell_type": "code",
   "execution_count": 3,
   "metadata": {},
   "outputs": [],
   "source": [
    "train_data_clean = train_data_clean.astype('float32') / 255.\n",
    "test_data_clean = test_data_clean.astype('float32') / 255."
   ]
  },
  {
   "cell_type": "markdown",
   "metadata": {},
   "source": [
    "Now we need to produce noisy data. To do that we add gaussian noise with mean=0 and std=0.1 and then clip values back to 0-1. Mean=0 noise makes some parts of the image darker and some lighter after addition."
   ]
  },
  {
   "cell_type": "code",
   "execution_count": 4,
   "metadata": {},
   "outputs": [],
   "source": [
    "def add_noise_and_clip_data(data):\n",
    "    noise = np.random.normal(loc=0.0, scale=0.1, size=data.shape)\n",
    "    data = data + noise\n",
    "    data = np.clip(data, 0., 1.)\n",
    "    return data\n",
    "\n",
    "train_data_noisy = add_noise_and_clip_data(train_data_clean)\n",
    "test_data_noisy = add_noise_and_clip_data(test_data_clean)"
   ]
  },
  {
   "cell_type": "markdown",
   "metadata": {},
   "source": [
    "Quick check if everything is alright."
   ]
  },
  {
   "cell_type": "code",
   "execution_count": 5,
   "metadata": {},
   "outputs": [
    {
     "data": {
      "image/png": "[encoded data removed]",
      "text/plain": [
       "<Figure size 432x288 with 2 Axes>"
      ]
     },
     "metadata": {
      "needs_background": "light"
     },
     "output_type": "display_data"
    }
   ],
   "source": [
    "idx = 4\n",
    "plt.subplot(1,2,1)\n",
    "plt.imshow(train_data_clean[idx])\n",
    "plt.title('Original image')\n",
    "plt.subplot(1,2,2)\n",
    "plt.imshow(train_data_noisy[idx])\n",
    "plt.title('Image with noise')\n",
    "plt.show()"
   ]
  },
  {
   "cell_type": "markdown",
   "metadata": {},
   "source": [
    "As you can see the noise substantially distorts the image."
   ]
  },
  {
   "cell_type": "markdown",
   "metadata": {},
   "source": [
    "### Part2: Defining architecture\n",
    "Now we define building blocks of our DAE: convolutional block and deconvolutional block.\n",
    "\n",
    "Convolutional block consists of 3 operations: 2D convolution, batch normalization and ReLu activation. We use strides=2 to downsample data going through the network.\n",
    "\n",
    "Deconvolutional block also consists of 3 operations: 2D transposed convolution, batch normalization and also ReLu activation. Here strides=2 is used to upsample the data."
   ]
  },
  {
   "cell_type": "code",
   "execution_count": 6,
   "metadata": {},
   "outputs": [],
   "source": [
    "def conv_block(x, filters, kernel_size, strides=2):\n",
    "    x = Conv2D(filters=filters,\n",
    "               kernel_size=kernel_size,\n",
    "               strides=strides,\n",
    "               padding='same')(x)\n",
    "    x = BatchNormalization()(x)\n",
    "    x = ReLU()(x)\n",
    "    return x\n",
    "\n",
    "def deconv_block(x, filters, kernel_size):\n",
    "    x = Conv2DTranspose(filters=filters,\n",
    "                        kernel_size=kernel_size,\n",
    "                        strides=2,\n",
    "                        padding='same')(x)\n",
    "    x = BatchNormalization()(x)\n",
    "    x = ReLU()(x)\n",
    "    return x"
   ]
  },
  {
   "cell_type": "markdown",
   "metadata": {},
   "source": [
    "Our model architecture is inspired by [U-Net](https://lmb.informatik.uni-freiburg.de/people/ronneber/u-net/):\n",
    "* 4 convolutional blocks with downsampling\n",
    "* 1 convolutional block without downsampling\n",
    "* 4 deconvolutional blocks with upsampling, interleaving concatenations\n",
    "* 1 final deconvolution that recreates image size (32, 32, 3)\n",
    "* 1 activation layer with sigmoid that scales values to 0-1.\n",
    "\n",
    "Of course we encourage you to try your own archs, something like [DenseNet's skip connections](http://openaccess.thecvf.com/content_ICCV_2017/papers/Tong_Image_Super-Resolution_Using_ICCV_2017_paper.pdf) may perform well in our task."
   ]
  },
  {
   "cell_type": "code",
   "execution_count": 7,
   "metadata": {},
   "outputs": [],
   "source": [
    "def denoising_autoencoder():\n",
    "    den_inputs = Input(shape=(32, 32, 3), name='dae_input')\n",
    "    conv_block1 = conv_block(den_inputs, 32, 3)\n",
    "    conv_block2 = conv_block(conv_block1, 64, 3)\n",
    "    conv_block3 = conv_block(conv_block2, 128, 3)\n",
    "    conv_block4 = conv_block(conv_block3, 256, 3)\n",
    "    conv_block5 = conv_block(conv_block4, 256, 3, 1)\n",
    "\n",
    "    deconv_block1 = deconv_block(conv_block5, 256, 3)\n",
    "    merge1 = Concatenate()([deconv_block1, conv_block3])\n",
    "    deconv_block2 = deconv_block(merge1, 128, 3)\n",
    "    merge2 = Concatenate()([deconv_block2, conv_block2])\n",
    "    deconv_block3 = deconv_block(merge2, 64, 3)\n",
    "    merge3 = Concatenate()([deconv_block3, conv_block1])\n",
    "    deconv_block4 = deconv_block(merge3, 32, 3)\n",
    "\n",
    "    final_deconv = Conv2DTranspose(filters=3,\n",
    "                        kernel_size=3,\n",
    "                        padding='same')(deconv_block4)\n",
    "\n",
    "    den_outputs = Activation('sigmoid', name='dae_output')(final_deconv)\n",
    "    \n",
    "    return Model(den_inputs, den_outputs, name='dae')"
   ]
  },
  {
   "cell_type": "markdown",
   "metadata": {},
   "source": [
    "### Part 3: Training model\n",
    "Now we compile the model using mean squared error as our loss and Adam as optimizer. ModelCheckpoint callback saves currently best model during training.\n",
    "\n",
    "And finally we train the model for 40 epochs. Using batch_size=128 best val_loss is around 0.199.\n",
    "\n",
    "Note: If you don't want to train the model by yourself we provide our best model from this training."
   ]
  },
  {
   "cell_type": "code",
   "execution_count": 8,
   "metadata": {
    "scrolled": true
   },
   "outputs": [
    {
     "name": "stdout",
     "output_type": "stream",
     "text": [
      "Train on 50000 samples, validate on 10000 samples\n",
      "Epoch 1/40\n",
      "49792/50000 [============================>.] - ETA: 0s - loss: 0.6628\n",
      "Epoch 00001: val_loss improved from inf to 0.65164, saving model to best_model.h5\n",
      "50000/50000 [==============================] - 14s 277us/step - loss: 0.6612 - val_loss: 0.6516\n",
      "Epoch 2/40\n",
      "49920/50000 [============================>.] - ETA: 0s - loss: 0.3283\n",
      "Epoch 00002: val_loss improved from 0.65164 to 0.30991, saving model to best_model.h5\n",
      "50000/50000 [==============================] - 12s 232us/step - loss: 0.3281 - val_loss: 0.3099\n",
      "Epoch 3/40\n",
      "49920/50000 [============================>.] - ETA: 0s - loss: 0.2993\n",
      "Epoch 00003: val_loss did not improve from 0.30991\n",
      "50000/50000 [==============================] - 11s 215us/step - loss: 0.2991 - val_loss: 0.3231\n",
      "Epoch 4/40\n",
      "49920/50000 [============================>.] - ETA: 0s - loss: 0.2923\n",
      "Epoch 00004: val_loss improved from 0.30991 to 0.27997, saving model to best_model.h5\n",
      "50000/50000 [==============================] - 12s 239us/step - loss: 0.2921 - val_loss: 0.2800\n",
      "Epoch 5/40\n",
      "49664/50000 [============================>.] - ETA: 0s - loss: 0.2785\n",
      "Epoch 00005: val_loss improved from 0.27997 to 0.25384, saving model to best_model.h5\n",
      "50000/50000 [==============================] - 12s 244us/step - loss: 0.2782 - val_loss: 0.2538\n",
      "Epoch 6/40\n",
      "49920/50000 [============================>.] - ETA: 0s - loss: 0.2675\n",
      "Epoch 00006: val_loss improved from 0.25384 to 0.25206, saving model to best_model.h5\n",
      "50000/50000 [==============================] - 12s 240us/step - loss: 0.2674 - val_loss: 0.2521\n",
      "Epoch 7/40\n",
      "49792/50000 [============================>.] - ETA: 0s - loss: 0.2584\n",
      "Epoch 00007: val_loss did not improve from 0.25206\n",
      "50000/50000 [==============================] - 11s 211us/step - loss: 0.2583 - val_loss: 0.2663\n",
      "Epoch 8/40\n",
      "49920/50000 [============================>.] - ETA: 0s - loss: 0.2513\n",
      "Epoch 00008: val_loss improved from 0.25206 to 0.23816, saving model to best_model.h5\n",
      "50000/50000 [==============================] - 11s 230us/step - loss: 0.2511 - val_loss: 0.2382\n",
      "Epoch 9/40\n",
      "49664/50000 [============================>.] - ETA: 0s - loss: 0.2551\n",
      "Epoch 00009: val_loss improved from 0.23816 to 0.23254, saving model to best_model.h5\n",
      "50000/50000 [==============================] - 11s 220us/step - loss: 0.2549 - val_loss: 0.2325\n",
      "Epoch 10/40\n",
      "49792/50000 [============================>.] - ETA: 0s - loss: 0.2434\n",
      "Epoch 00010: val_loss did not improve from 0.23254\n",
      "50000/50000 [==============================] - 11s 219us/step - loss: 0.2434 - val_loss: 0.2570\n",
      "Epoch 11/40\n",
      "49792/50000 [============================>.] - ETA: 0s - loss: 0.2430\n",
      "Epoch 00011: val_loss did not improve from 0.23254\n",
      "50000/50000 [==============================] - 12s 236us/step - loss: 0.2430 - val_loss: 0.2450\n",
      "Epoch 12/40\n",
      "49792/50000 [============================>.] - ETA: 0s - loss: 0.2384\n",
      "Epoch 00012: val_loss did not improve from 0.23254\n",
      "50000/50000 [==============================] - 12s 230us/step - loss: 0.2381 - val_loss: 0.2405\n",
      "Epoch 13/40\n",
      "49920/50000 [============================>.] - ETA: 0s - loss: 0.2315\n",
      "Epoch 00013: val_loss improved from 0.23254 to 0.21982, saving model to best_model.h5\n",
      "50000/50000 [==============================] - 11s 226us/step - loss: 0.2314 - val_loss: 0.2198\n",
      "Epoch 14/40\n",
      "49792/50000 [============================>.] - ETA: 0s - loss: 0.2280\n",
      "Epoch 00014: val_loss did not improve from 0.21982\n",
      "50000/50000 [==============================] - 12s 233us/step - loss: 0.2278 - val_loss: 0.2293\n",
      "Epoch 15/40\n",
      "49920/50000 [============================>.] - ETA: 0s - loss: 0.2298\n",
      "Epoch 00015: val_loss did not improve from 0.21982\n",
      "50000/50000 [==============================] - 11s 223us/step - loss: 0.2296 - val_loss: 0.2234\n",
      "Epoch 16/40\n",
      "49792/50000 [============================>.] - ETA: 0s - loss: 0.2217\n",
      "Epoch 00016: val_loss improved from 0.21982 to 0.21384, saving model to best_model.h5\n",
      "50000/50000 [==============================] - 11s 218us/step - loss: 0.2216 - val_loss: 0.2138\n",
      "Epoch 17/40\n",
      "49792/50000 [============================>.] - ETA: 0s - loss: 0.2220\n",
      "Epoch 00017: val_loss did not improve from 0.21384\n",
      "50000/50000 [==============================] - 11s 226us/step - loss: 0.2218 - val_loss: 0.2218\n",
      "Epoch 18/40\n",
      "49664/50000 [============================>.] - ETA: 0s - loss: 0.2228\n",
      "Epoch 00018: val_loss improved from 0.21384 to 0.20883, saving model to best_model.h5\n",
      "50000/50000 [==============================] - 11s 229us/step - loss: 0.2226 - val_loss: 0.2088\n",
      "Epoch 19/40\n",
      "49920/50000 [============================>.] - ETA: 0s - loss: 0.2161\n",
      "Epoch 00019: val_loss improved from 0.20883 to 0.20856, saving model to best_model.h5\n",
      "50000/50000 [==============================] - 11s 225us/step - loss: 0.2160 - val_loss: 0.2086\n",
      "Epoch 20/40\n",
      "49792/50000 [============================>.] - ETA: 0s - loss: 0.2186\n",
      "Epoch 00020: val_loss did not improve from 0.20856\n",
      "50000/50000 [==============================] - 11s 225us/step - loss: 0.2185 - val_loss: 0.2119\n",
      "Epoch 21/40\n",
      "49920/50000 [============================>.] - ETA: 0s - loss: 0.2143\n",
      "Epoch 00021: val_loss did not improve from 0.20856\n",
      "50000/50000 [==============================] - 12s 234us/step - loss: 0.2142 - val_loss: 0.2133\n",
      "Epoch 22/40\n",
      "49664/50000 [============================>.] - ETA: 0s - loss: 0.2140\n",
      "Epoch 00022: val_loss improved from 0.20856 to 0.20450, saving model to best_model.h5\n",
      "50000/50000 [==============================] - 12s 236us/step - loss: 0.2138 - val_loss: 0.2045\n",
      "Epoch 23/40\n",
      "49920/50000 [============================>.] - ETA: 0s - loss: 0.2094\n",
      "Epoch 00023: val_loss did not improve from 0.20450\n",
      "50000/50000 [==============================] - 11s 218us/step - loss: 0.2093 - val_loss: 0.2076\n",
      "Epoch 24/40\n",
      "49920/50000 [============================>.] - ETA: 0s - loss: 0.2115\n",
      "Epoch 00024: val_loss did not improve from 0.20450\n",
      "50000/50000 [==============================] - 12s 233us/step - loss: 0.2114 - val_loss: 0.2117\n",
      "Epoch 25/40\n",
      "49920/50000 [============================>.] - ETA: 0s - loss: 0.2069\n",
      "Epoch 00025: val_loss did not improve from 0.20450\n",
      "50000/50000 [==============================] - 12s 235us/step - loss: 0.2068 - val_loss: 0.2059\n",
      "Epoch 26/40\n",
      "49920/50000 [============================>.] - ETA: 0s - loss: 0.2063\n",
      "Epoch 00026: val_loss did not improve from 0.20450\n",
      "50000/50000 [==============================] - 11s 218us/step - loss: 0.2062 - val_loss: 0.2047\n",
      "Epoch 27/40\n",
      "49920/50000 [============================>.] - ETA: 0s - loss: 0.2088\n",
      "Epoch 00027: val_loss improved from 0.20450 to 0.20402, saving model to best_model.h5\n",
      "50000/50000 [==============================] - 11s 222us/step - loss: 0.2086 - val_loss: 0.2040\n",
      "Epoch 28/40\n",
      "49792/50000 [============================>.] - ETA: 0s - loss: 0.2047\n",
      "Epoch 00028: val_loss did not improve from 0.20402\n",
      "50000/50000 [==============================] - 12s 231us/step - loss: 0.2046 - val_loss: 0.2045\n",
      "Epoch 29/40\n",
      "49920/50000 [============================>.] - ETA: 0s - loss: 0.2023\n",
      "Epoch 00029: val_loss improved from 0.20402 to 0.20078, saving model to best_model.h5\n",
      "50000/50000 [==============================] - 11s 221us/step - loss: 0.2022 - val_loss: 0.2008\n",
      "Epoch 30/40\n",
      "49792/50000 [============================>.] - ETA: 0s - loss: 0.2025\n",
      "Epoch 00030: val_loss did not improve from 0.20078\n",
      "50000/50000 [==============================] - 11s 227us/step - loss: 0.2024 - val_loss: 0.2054\n",
      "Epoch 31/40\n",
      "49920/50000 [============================>.] - ETA: 0s - loss: 0.2009\n",
      "Epoch 00031: val_loss did not improve from 0.20078\n",
      "50000/50000 [==============================] - 11s 220us/step - loss: 0.2008 - val_loss: 0.2016\n",
      "Epoch 32/40\n",
      "49920/50000 [============================>.] - ETA: 0s - loss: 0.2006\n",
      "Epoch 00032: val_loss did not improve from 0.20078\n",
      "50000/50000 [==============================] - 11s 219us/step - loss: 0.2004 - val_loss: 0.2199\n",
      "Epoch 33/40\n",
      "49920/50000 [============================>.] - ETA: 0s - loss: 0.2011\n",
      "Epoch 00033: val_loss did not improve from 0.20078\n",
      "50000/50000 [==============================] - 11s 224us/step - loss: 0.2010 - val_loss: 0.2042\n",
      "Epoch 34/40\n",
      "49792/50000 [============================>.] - ETA: 0s - loss: 0.1996\n",
      "Epoch 00034: val_loss did not improve from 0.20078\n",
      "50000/50000 [==============================] - 11s 230us/step - loss: 0.1995 - val_loss: 0.2013\n"
     ]
    },
    {
     "name": "stdout",
     "output_type": "stream",
     "text": [
      "Epoch 35/40\n",
      "49920/50000 [============================>.] - ETA: 0s - loss: 0.1985\n",
      "Epoch 00035: val_loss improved from 0.20078 to 0.19878, saving model to best_model.h5\n",
      "50000/50000 [==============================] - 11s 222us/step - loss: 0.1984 - val_loss: 0.1988\n",
      "Epoch 36/40\n",
      "49920/50000 [============================>.] - ETA: 0s - loss: 0.1965\n",
      "Epoch 00036: val_loss did not improve from 0.19878\n",
      "50000/50000 [==============================] - 11s 228us/step - loss: 0.1964 - val_loss: 0.2048\n",
      "Epoch 37/40\n",
      "49792/50000 [============================>.] - ETA: 0s - loss: 0.1958\n",
      "Epoch 00037: val_loss did not improve from 0.19878\n",
      "50000/50000 [==============================] - 11s 225us/step - loss: 0.1956 - val_loss: 0.2005\n",
      "Epoch 38/40\n",
      "49920/50000 [============================>.] - ETA: 0s - loss: 0.1945\n",
      "Epoch 00038: val_loss did not improve from 0.19878\n",
      "50000/50000 [==============================] - 11s 216us/step - loss: 0.1944 - val_loss: 0.2000\n",
      "Epoch 39/40\n",
      "49920/50000 [============================>.] - ETA: 0s - loss: 0.1962\n",
      "Epoch 00039: val_loss did not improve from 0.19878\n",
      "50000/50000 [==============================] - 11s 226us/step - loss: 0.1961 - val_loss: 0.2015\n",
      "Epoch 40/40\n",
      "49920/50000 [============================>.] - ETA: 0s - loss: 0.1961\n",
      "Epoch 00040: val_loss did not improve from 0.19878\n",
      "50000/50000 [==============================] - 11s 218us/step - loss: 0.1960 - val_loss: 0.2011\n"
     ]
    },
    {
     "data": {
      "text/plain": [
       "<tensorflow.python.keras.callbacks.History at 0x7f4a799817f0>"
      ]
     },
     "execution_count": 8,
     "metadata": {},
     "output_type": "execute_result"
    }
   ],
   "source": [
    "dae = denoising_autoencoder()\n",
    "dae.compile(loss='mse', optimizer='adam')\n",
    "\n",
    "checkpoint = ModelCheckpoint('best_model.h5', verbose=1, save_best_only=True, save_weights_only=True)\n",
    "\n",
    "dae.fit(train_data_noisy,\n",
    "        train_data_clean,\n",
    "        validation_data=(test_data_noisy, test_data_clean),\n",
    "        epochs=40,\n",
    "        batch_size=128,\n",
    "        callbacks=[checkpoint])"
   ]
  },
  {
   "cell_type": "markdown",
   "metadata": {},
   "source": [
    "### Part 4: Interpreting results\n",
    "Now we load our best model weights and try to predict (denoise) our CIFAR100 test data to visualize how well our DAE performs. After all loss number doesn't mean much if that's all we see.\n",
    "\n",
    "Note: if you didn't train the model by yourself change `'best_model.h5'` to `'pretrained_model/best_model.h5'`."
   ]
  },
  {
   "cell_type": "code",
   "execution_count": 9,
   "metadata": {},
   "outputs": [],
   "source": [
    "dae.load_weights('best_model.h5')\n",
    "test_data_denoised = dae.predict(test_data_noisy)"
   ]
  },
  {
   "cell_type": "code",
   "execution_count": 10,
   "metadata": {},
   "outputs": [
    {
     "data": {
      "image/png": "[encoded data removed]",
      "text/plain": [
       "<Figure size 432x288 with 3 Axes>"
      ]
     },
     "metadata": {
      "needs_background": "light"
     },
     "output_type": "display_data"
    }
   ],
   "source": [
    "idx = 4\n",
    "plt.subplot(1,3,1)\n",
    "plt.imshow(test_data_clean[idx])\n",
    "plt.title('original')\n",
    "plt.subplot(1,3,2)\n",
    "plt.imshow(test_data_noisy[idx])\n",
    "plt.title('noisy')\n",
    "plt.subplot(1,3,3)\n",
    "plt.imshow(test_data_denoised[idx])\n",
    "plt.title('denoised')\n",
    "plt.show()"
   ]
  },
  {
   "cell_type": "markdown",
   "metadata": {},
   "source": [
    "As can be seen DAE performs pretty well considering that added noise is brutal for the original image.\n",
    "\n",
    "Now we will calculate mean squared error of the whole CIFAR100 test set. First we will calculate mse between our clean data and data with added noise. Next we check how well our DAE denoised the data."
   ]
  },
  {
   "cell_type": "code",
   "execution_count": 11,
   "metadata": {},
   "outputs": [
    {
     "data": {
      "text/plain": [
       "(0.0091120318424328, 0.0015556107)"
      ]
     },
     "execution_count": 11,
     "metadata": {},
     "output_type": "execute_result"
    }
   ],
   "source": [
    "def mse(data_1, data_2):\n",
    "    return np.square(np.subtract(data_1, data_2)).mean()\n",
    "\n",
    "noisy_clean_mse = mse(test_data_clean, test_data_noisy)\n",
    "denoised_clean_mse = mse(test_data_denoised, test_data_clean)\n",
    "noisy_clean_mse, denoised_clean_mse"
   ]
  },
  {
   "cell_type": "markdown",
   "metadata": {},
   "source": [
    "As you can see our DAE decreased the noise around 6x (by ~83%)."
   ]
  },
  {
   "cell_type": "markdown",
   "metadata": {},
   "source": [
    "### Part5: Testing our DAE on CIFAR10"
   ]
  },
  {
   "cell_type": "markdown",
   "metadata": {},
   "source": [
    "As previously we load the data, only images."
   ]
  },
  {
   "cell_type": "code",
   "execution_count": 12,
   "metadata": {},
   "outputs": [],
   "source": [
    "(cifar10_train, _), (cifar10_test, _) = cifar10.load_data()"
   ]
  },
  {
   "cell_type": "markdown",
   "metadata": {},
   "source": [
    "Convert images to floats and add noise."
   ]
  },
  {
   "cell_type": "code",
   "execution_count": 13,
   "metadata": {},
   "outputs": [],
   "source": [
    "cifar10_train = cifar10_train.astype('float32') / 255.\n",
    "cifar10_test = cifar10_test.astype('float32') / 255.\n",
    "cifar10_train_noisy = add_noise_and_clip_data(cifar10_train)\n",
    "cifar10_test_noisy = add_noise_and_clip_data(cifar10_test)"
   ]
  },
  {
   "cell_type": "markdown",
   "metadata": {},
   "source": [
    "And now we can denoise these images."
   ]
  },
  {
   "cell_type": "code",
   "execution_count": 14,
   "metadata": {},
   "outputs": [],
   "source": [
    "cifar10_test_denoised = dae.predict(cifar10_test_noisy)"
   ]
  },
  {
   "cell_type": "markdown",
   "metadata": {},
   "source": [
    "And just like before we plot our results."
   ]
  },
  {
   "cell_type": "code",
   "execution_count": 15,
   "metadata": {
    "scrolled": true
   },
   "outputs": [
    {
     "data": {
      "image/png": "[encoded data removed]",
      "text/plain": [
       "<Figure size 432x288 with 3 Axes>"
      ]
     },
     "metadata": {
      "needs_background": "light"
     },
     "output_type": "display_data"
    }
   ],
   "source": [
    "idx = 6\n",
    "plt.subplot(1,3,1)\n",
    "plt.imshow(cifar10_test[idx])\n",
    "plt.title('original')\n",
    "plt.subplot(1,3,2)\n",
    "plt.imshow(cifar10_test_noisy[idx])\n",
    "plt.title('noisy')\n",
    "plt.subplot(1,3,3)\n",
    "plt.imshow(cifar10_test_denoised[idx])\n",
    "plt.title('denoised')\n",
    "plt.show()"
   ]
  },
  {
   "cell_type": "markdown",
   "metadata": {},
   "source": [
    "Not bad, our image is definitely more recognizable."
   ]
  },
  {
   "cell_type": "code",
   "execution_count": 18,
   "metadata": {},
   "outputs": [
    {
     "data": {
      "text/plain": [
       "(0.009305541238191785, 0.001531884)"
      ]
     },
     "execution_count": 18,
     "metadata": {},
     "output_type": "execute_result"
    }
   ],
   "source": [
    "clean_noisy = mse(cifar10_test, cifar10_test_noisy)\n",
    "clean_denoised = mse(cifar10_test, cifar10_test_denoised)\n",
    "clean_noisy, clean_denoised"
   ]
  },
  {
   "cell_type": "markdown",
   "metadata": {},
   "source": [
    "Seeing the number we can tell that our DAE worked pretty much as well on CIFAR10 as on CIFAR100. Images in both datasets aren't that different after all and image resolution is small."
   ]
  },
  {
   "cell_type": "markdown",
   "metadata": {},
   "source": [
    "### Conclusion\n",
    "DAE fulfilled its task. After training on CIFAR100 it denoised CIFAR10 images without problems and without substantial drop of quality."
   ]
  }
 ],
 "metadata": {
  "kernelspec": {
   "display_name": "Python [conda env:python3] *",
   "language": "python",
   "name": "conda-env-python3-py"
  },
  "language_info": {
   "codemirror_mode": {
    "name": "ipython",
    "version": 3
   },
   "file_extension": ".py",
   "mimetype": "text/x-python",
   "name": "python",
   "nbconvert_exporter": "python",
   "pygments_lexer": "ipython3",
   "version": "3.6.8"
  }
 },
 "nbformat": 4,
 "nbformat_minor": 2
}
